{
 "cells": [
  {
   "cell_type": "markdown",
   "metadata": {},
   "source": [
    "# Function examples using a list of dictionaries"
   ]
  },
  {
   "cell_type": "code",
   "execution_count": 1,
   "metadata": {},
   "outputs": [],
   "source": [
    "movies = [\n",
    "{\n",
    "\"name\": \"Usual Suspects\", \n",
    "\"imdb\": 7.0,\n",
    "\"category\": \"Thriller\"\n",
    "},\n",
    "{\n",
    "\"name\": \"Hitman\",\n",
    "\"imdb\": 6.3,\n",
    "\"category\": \"Action\"\n",
    "},\n",
    "{\n",
    "\"name\": \"Dark Knight\",\n",
    "\"imdb\": 9.0,\n",
    "\"category\": \"Adventure\"\n",
    "},\n",
    "{\n",
    "\"name\": \"The Help\",\n",
    "\"imdb\": 8.0,\n",
    "\"category\": \"Drama\"\n",
    "},\n",
    "{\n",
    "\"name\": \"The Choice\",\n",
    "\"imdb\": 6.2,\n",
    "\"category\": \"Romance\"\n",
    "},\n",
    "{\n",
    "\"name\": \"Colonia\",\n",
    "\"imdb\": 7.4,\n",
    "\"category\": \"Romance\"\n",
    "},\n",
    "{\n",
    "\"name\": \"Love\",\n",
    "\"imdb\": 6.0,\n",
    "\"category\": \"Romance\"\n",
    "},\n",
    "{\n",
    "\"name\": \"Bride Wars\",\n",
    "\"imdb\": 5.4,\n",
    "\"category\": \"Romance\"\n",
    "},\n",
    "{\n",
    "\"name\": \"AlphaJet\",\n",
    "\"imdb\": 3.2,\n",
    "\"category\": \"War\"\n",
    "},\n",
    "{\n",
    "\"name\": \"Ringing Crime\",\n",
    "\"imdb\": 4.0,\n",
    "\"category\": \"Crime\"\n",
    "},\n",
    "{\n",
    "\"name\": \"Joking muck\",\n",
    "\"imdb\": 7.2,\n",
    "\"category\": \"Comedy\"\n",
    "},\n",
    "{\n",
    "\"name\": \"What is the name\",\n",
    "\"imdb\": 9.2,\n",
    "\"category\": \"Suspense\"\n",
    "},\n",
    "{\n",
    "\"name\": \"Detective\",\n",
    "\"imdb\": 7.0,\n",
    "\"category\": \"Suspense\"\n",
    "},\n",
    "{\n",
    "\"name\": \"Exam\",\n",
    "\"imdb\": 4.2,\n",
    "\"category\": \"Thriller\"\n",
    "},\n",
    "{\n",
    "\"name\": \"We Two\",\n",
    "\"imdb\": 7.2,\n",
    "\"category\": \"Romance\"\n",
    "}\n",
    "]\n"
   ]
  },
  {
   "cell_type": "code",
   "execution_count": 2,
   "metadata": {},
   "outputs": [
    {
     "name": "stdout",
     "output_type": "stream",
     "text": [
      "dict_keys(['name', 'imdb', 'category'])\n"
     ]
    }
   ],
   "source": [
    "movies[1]\n",
    "type(movies)\n",
    "print(movies[1].keys())"
   ]
  },
  {
   "cell_type": "code",
   "execution_count": 3,
   "metadata": {},
   "outputs": [
    {
     "data": {
      "text/plain": [
       "True"
      ]
     },
     "execution_count": 3,
     "metadata": {},
     "output_type": "execute_result"
    }
   ],
   "source": [
    "def pick_movie(name):\n",
    "    for key in range(len(movies)):\n",
    "        if (movies[key]['name'] == name) == True:\n",
    "            return movies[key]['imdb'] > 5.5\n",
    "\n",
    "pick_movie('Hitman')    \n"
   ]
  },
  {
   "cell_type": "code",
   "execution_count": 4,
   "metadata": {},
   "outputs": [
    {
     "data": {
      "text/plain": [
       "True"
      ]
     },
     "execution_count": 4,
     "metadata": {},
     "output_type": "execute_result"
    }
   ],
   "source": [
    "def movie_is_decent(movie):\n",
    "    return movie['imdb'] > 5.5\n",
    "\n",
    "movie_is_decent(movies[1])"
   ]
  },
  {
   "cell_type": "code",
   "execution_count": 5,
   "metadata": {},
   "outputs": [
    {
     "data": {
      "text/plain": [
       "[{'name': 'Usual Suspects', 'imdb': 7.0, 'category': 'Thriller'},\n",
       " {'name': 'Hitman', 'imdb': 6.3, 'category': 'Action'},\n",
       " {'name': 'Dark Knight', 'imdb': 9.0, 'category': 'Adventure'},\n",
       " {'name': 'The Help', 'imdb': 8.0, 'category': 'Drama'},\n",
       " {'name': 'The Choice', 'imdb': 6.2, 'category': 'Romance'},\n",
       " {'name': 'Colonia', 'imdb': 7.4, 'category': 'Romance'},\n",
       " {'name': 'Love', 'imdb': 6.0, 'category': 'Romance'},\n",
       " {'name': 'Joking muck', 'imdb': 7.2, 'category': 'Comedy'},\n",
       " {'name': 'What is the name', 'imdb': 9.2, 'category': 'Suspense'},\n",
       " {'name': 'Detective', 'imdb': 7.0, 'category': 'Suspense'},\n",
       " {'name': 'We Two', 'imdb': 7.2, 'category': 'Romance'}]"
      ]
     },
     "execution_count": 5,
     "metadata": {},
     "output_type": "execute_result"
    }
   ],
   "source": [
    "def filter_on_score(movies, score):\n",
    "    return [movie for movie in movies if movie['imdb'] > score]\n",
    "\n",
    "filter_on_score(movies,5.5)\n"
   ]
  },
  {
   "cell_type": "code",
   "execution_count": 6,
   "metadata": {},
   "outputs": [
    {
     "data": {
      "text/plain": [
       "[{'name': 'Dark Knight', 'imdb': 9.0, 'category': 'Adventure'},\n",
       " {'name': 'The Help', 'imdb': 8.0, 'category': 'Drama'},\n",
       " {'name': 'What is the name', 'imdb': 9.2, 'category': 'Suspense'}]"
      ]
     },
     "execution_count": 6,
     "metadata": {},
     "output_type": "execute_result"
    }
   ],
   "source": [
    "def filter_on_score(lst, score):\n",
    "    new_list = []\n",
    "    for movie in lst:\n",
    "        if movie['imdb'] > score:\n",
    "            new_list.append(movie)\n",
    "    return new_list\n",
    "        \n",
    "filter_on_score(movies,7.5)\n"
   ]
  },
  {
   "cell_type": "code",
   "execution_count": 7,
   "metadata": {},
   "outputs": [
    {
     "name": "stdout",
     "output_type": "stream",
     "text": [
      "does not match\n",
      "does not match\n",
      "does not match\n",
      "does not match\n",
      "does not match\n",
      "does not match\n",
      "does not match\n",
      "does not match\n",
      "does not match\n",
      "does not match\n",
      "does not match\n",
      "What is the name\n",
      "Detective\n",
      "does not match\n",
      "does not match\n"
     ]
    }
   ],
   "source": [
    "def movie_by_category(movie_list,category):\n",
    "    my_string = category.lower()\n",
    "    for movie in movie_list:\n",
    "        if movie['category'].lower() == my_string:\n",
    "            print(movie['name'])\n",
    "        else:\n",
    "            print(\"does not match\") \n",
    "            \n",
    "\n",
    "movie_by_category(movies,'SusPENSE')"
   ]
  },
  {
   "cell_type": "code",
   "execution_count": 8,
   "metadata": {},
   "outputs": [],
   "source": [
    "def search_movie(movie_list, search_criteria):\n",
    "    new_list = []\n",
    "    for movie in movie_list:\n",
    "        if type(search_criteria) == float or type(search_criteria) == int:\n",
    "            if movie['imdb'] >= search_criteria:\n",
    "                new_list.append(movie['name'])\n",
    "        elif type(search_criteria) == str:\n",
    "            my_string = search_criteria.lower()\n",
    "            if movie['category'].lower() == my_string:\n",
    "                new_list.append(movie['name'])\n",
    "    if len(new_list) == 0:\n",
    "        print('no matches, please try again')\n",
    "    else:\n",
    "        return new_list"
   ]
  },
  {
   "cell_type": "code",
   "execution_count": 9,
   "metadata": {},
   "outputs": [
    {
     "name": "stdout",
     "output_type": "stream",
     "text": [
      "['Usual Suspects', 'Exam']\n",
      "['Dark Knight', 'The Help', 'What is the name']\n",
      "no matches, please try again\n",
      "None\n",
      "no matches, please try again\n",
      "None\n"
     ]
    }
   ],
   "source": [
    "print(search_movie(movies, 'ThriLLer'))\n",
    "print(search_movie(movies, 8))\n",
    "print(search_movie(movies, 11))\n",
    "print(search_movie(movies, 'bRomancE'))"
   ]
  }
 ],
 "metadata": {
  "kernelspec": {
   "display_name": "Python 3",
   "language": "python",
   "name": "python3"
  },
  "language_info": {
   "codemirror_mode": {
    "name": "ipython",
    "version": 3
   },
   "file_extension": ".py",
   "mimetype": "text/x-python",
   "name": "python",
   "nbconvert_exporter": "python",
   "pygments_lexer": "ipython3",
   "version": "3.7.4"
  }
 },
 "nbformat": 4,
 "nbformat_minor": 2
}
